{
  "nbformat": 4,
  "nbformat_minor": 0,
  "metadata": {
    "colab": {
      "name": "Sorting.ipynb",
      "provenance": [],
      "collapsed_sections": [],
      "authorship_tag": "ABX9TyO7D4ftNb+04z2MdMB/ABlG",
      "include_colab_link": true
    },
    "kernelspec": {
      "name": "python3",
      "display_name": "Python 3"
    }
  },
  "cells": [
    {
      "cell_type": "markdown",
      "metadata": {
        "id": "view-in-github",
        "colab_type": "text"
      },
      "source": [
        "<a href=\"https://colab.research.google.com/github/raywu60kg/algorithms/blob/master/Sorting.ipynb\" target=\"_parent\"><img src=\"https://colab.research.google.com/assets/colab-badge.svg\" alt=\"Open In Colab\"/></a>"
      ]
    },
    {
      "cell_type": "markdown",
      "metadata": {
        "id": "0IlhVzNX-GSH"
      },
      "source": [
        "# Common Sorting Algorithms\n",
        "- Insertion Sort \n",
        "- Selection Sort \n",
        "- Bubble Sort \n",
        "- Merge sort\n",
        "- Quicksort "
      ]
    },
    {
      "cell_type": "markdown",
      "metadata": {
        "id": "VufknUbqG1SK"
      },
      "source": [
        "## Overview"
      ]
    },
    {
      "cell_type": "markdown",
      "metadata": {
        "id": "8NcmJQlJ_6-r"
      },
      "source": [
        "Name|Best case|Average case|Worst case|Memory|Stable|Method\n",
        ":---|:---:|:---:|:---:|:---:|---:|---:\n",
        "Insertion sort| $n$|$n^2$|$n^2$|$1$|Yes|Inertion\n",
        "Selection sort| $n^2$|$n^2$|$n^2$|$1$|No|Selection\n",
        "Bubble sort|$n$|$n^2$|$n^2$|$1$|Yes|Exchanging\n",
        "Merge sort|$nlog(n)$|$nlog(n)$|$nlog(n)$|$n$|Yes|Merging\n",
        "Quicksort|$n$|$nlog(n)$|$n^2$|$log(n)$|No|Partitioning\n"
      ]
    },
    {
      "cell_type": "markdown",
      "metadata": {
        "id": "pzLICGBiN2FO"
      },
      "source": [
        "## Prepare the list"
      ]
    },
    {
      "cell_type": "code",
      "metadata": {
        "id": "9kO58cxNI7Sw",
        "colab": {
          "base_uri": "https://localhost:8080/"
        },
        "outputId": "3812575d-166d-4340-8315-3fd785b27713"
      },
      "source": [
        "import random\n",
        "import numpy as np\n",
        "random.seed(0)\n",
        "random_short_list = [random.randint(0, 100) for _ in range(10)]\n",
        "random_long_list = [random.randint(0, 1000) for _ in range(int(100))]\n",
        "sorted_random_short_list = list(np.sort(random_short_list))\n",
        "sorted_random_long_list = list(np.sort(random_long_list))\n",
        "print(random_short_list)\n",
        "print(sorted_random_short_list)\n",
        "print(random_long_list)\n",
        "print(sorted_random_long_list)"
      ],
      "execution_count": 1,
      "outputs": [
        {
          "output_type": "stream",
          "text": [
            "[49, 97, 53, 5, 33, 65, 62, 51, 100, 38]\n",
            "[5, 33, 38, 49, 51, 53, 62, 65, 97, 100]\n",
            "[991, 488, 366, 597, 913, 929, 223, 516, 142, 288, 143, 773, 97, 633, 818, 256, 931, 545, 722, 829, 616, 923, 150, 317, 101, 747, 75, 920, 870, 700, 338, 483, 573, 103, 362, 444, 323, 625, 655, 934, 209, 989, 565, 488, 453, 886, 533, 266, 63, 824, 940, 561, 937, 14, 95, 736, 860, 408, 727, 844, 803, 684, 640, 1, 626, 505, 847, 888, 341, 249, 747, 333, 720, 891, 64, 195, 939, 581, 227, 244, 822, 990, 145, 822, 556, 458, 93, 82, 327, 896, 520, 955, 501, 111, 308, 564, 298, 723, 127, 560]\n",
            "[1, 14, 63, 64, 75, 82, 93, 95, 97, 101, 103, 111, 127, 142, 143, 145, 150, 195, 209, 223, 227, 244, 249, 256, 266, 288, 298, 308, 317, 323, 327, 333, 338, 341, 362, 366, 408, 444, 453, 458, 483, 488, 488, 501, 505, 516, 520, 533, 545, 556, 560, 561, 564, 565, 573, 581, 597, 616, 625, 626, 633, 640, 655, 684, 700, 720, 722, 723, 727, 736, 747, 747, 773, 803, 818, 822, 822, 824, 829, 844, 847, 860, 870, 886, 888, 891, 896, 913, 920, 923, 929, 931, 934, 937, 939, 940, 955, 989, 990, 991]\n"
          ],
          "name": "stdout"
        }
      ]
    },
    {
      "cell_type": "markdown",
      "metadata": {
        "id": "M61ZOFp6KaOk"
      },
      "source": [
        "## Insertion sort\r\n",
        "Very fast for a almost sort list"
      ]
    },
    {
      "cell_type": "code",
      "metadata": {
        "id": "o-2VM36ZnjVA"
      },
      "source": [
        "def insertion_sort(target_list):\r\n",
        "    list_length = len(target_list)\r\n",
        "    for i in range(1, list_length):\r\n",
        "        for j in reversed(range(1,i+1)):\r\n",
        "            if target_list[j] < target_list[j-1]:\r\n",
        "                target_list[j], target_list[j-1] = target_list[j-1], target_list[j]\r\n",
        "            else:\r\n",
        "                break\r\n",
        "    return target_list"
      ],
      "execution_count": 2,
      "outputs": []
    },
    {
      "cell_type": "code",
      "metadata": {
        "id": "uyKZ-jz6Nf3k"
      },
      "source": [
        "random.seed(0)\r\n",
        "random_short_list = [random.randint(0, 100) for _ in range(10)]\r\n",
        "random_long_list = [random.randint(0, 1000) for _ in range(int(100))]\r\n",
        "sorted_random_short_list = list(np.sort(random_short_list))\r\n",
        "sorted_random_long_list = list(np.sort(random_long_list))\r\n",
        "assert insertion_sort(random_short_list) == sorted_random_short_list\r\n",
        "assert insertion_sort(random_long_list) == sorted_random_long_list"
      ],
      "execution_count": 10,
      "outputs": []
    },
    {
      "cell_type": "markdown",
      "metadata": {
        "id": "1XMPdFyXQhdA"
      },
      "source": [
        "## Selection sort"
      ]
    },
    {
      "cell_type": "code",
      "metadata": {
        "id": "PK6EpvUGQupH"
      },
      "source": [
        "def selection_sort(target_list):\r\n",
        "    list_length = len(target_list)\r\n",
        "    for i in range(list_length):\r\n",
        "        min_element_index = i\r\n",
        "        for j in range(i, list_length):\r\n",
        "            if target_list[min_element_index] > target_list[j]:\r\n",
        "                min_element_index = j\r\n",
        "        target_list[i], target_list[min_element_index] = target_list[min_element_index], target_list[i]\r\n",
        "    return target_list\r\n",
        "            "
      ],
      "execution_count": 5,
      "outputs": []
    },
    {
      "cell_type": "code",
      "metadata": {
        "id": "DNhU9VP9mswG",
        "colab": {
          "base_uri": "https://localhost:8080/"
        },
        "outputId": "14f17727-0bcf-40bd-fa3a-f78780b2b94d"
      },
      "source": [
        "\r\n",
        "selection_sort(random_short_list)"
      ],
      "execution_count": 6,
      "outputs": [
        {
          "output_type": "execute_result",
          "data": {
            "text/plain": [
              "[5, 33, 38, 49, 51, 53, 62, 65, 97, 100]"
            ]
          },
          "metadata": {
            "tags": []
          },
          "execution_count": 6
        }
      ]
    },
    {
      "cell_type": "markdown",
      "metadata": {
        "id": "YTHZumJT_NwB"
      },
      "source": [
        "## Bouble Sort Algorithm"
      ]
    },
    {
      "cell_type": "code",
      "metadata": {
        "id": "Q0Il8lLMG7iG"
      },
      "source": [
        "def bubble_sort(target_list):\n",
        "    list_length = len(target_list)\n",
        "    for i in range(list_length):\n",
        "        for j in range(list_length - i - 1):\n",
        "            if target_list[j+1] < target_list[j]:\n",
        "                target_list[j], target_list[j+1] = target_list[j+1], target_list[j]\n",
        "    return target_list"
      ],
      "execution_count": 7,
      "outputs": []
    },
    {
      "cell_type": "code",
      "metadata": {
        "colab": {
          "base_uri": "https://localhost:8080/"
        },
        "id": "KhGtVAbyi7g7",
        "outputId": "011d64f6-9829-49fa-c3b9-71ba8aa606bb"
      },
      "source": [
        "bubble_sort(random_short_list)"
      ],
      "execution_count": 8,
      "outputs": [
        {
          "output_type": "execute_result",
          "data": {
            "text/plain": [
              "[5, 33, 38, 49, 51, 53, 62, 65, 97, 100]"
            ]
          },
          "metadata": {
            "tags": []
          },
          "execution_count": 8
        }
      ]
    },
    {
      "cell_type": "code",
      "metadata": {
        "id": "mV8JwCgoIDZz",
        "colab": {
          "base_uri": "https://localhost:8080/",
          "height": 166
        },
        "outputId": "85de4e9d-3f92-4a87-b38c-3ff066e9d393"
      },
      "source": [
        "assert bubble_sort(random_short_list) == sorted_random_short_list"
      ],
      "execution_count": 9,
      "outputs": [
        {
          "output_type": "error",
          "ename": "NameError",
          "evalue": "ignored",
          "traceback": [
            "\u001b[0;31m---------------------------------------------------------------------------\u001b[0m",
            "\u001b[0;31mNameError\u001b[0m                                 Traceback (most recent call last)",
            "\u001b[0;32m<ipython-input-9-7b9b53ba1810>\u001b[0m in \u001b[0;36m<module>\u001b[0;34m()\u001b[0m\n\u001b[0;32m----> 1\u001b[0;31m \u001b[0;32massert\u001b[0m \u001b[0mbouble_sort\u001b[0m\u001b[0;34m(\u001b[0m\u001b[0mrandom_short_list\u001b[0m\u001b[0;34m)\u001b[0m \u001b[0;34m==\u001b[0m \u001b[0msorted_random_short_list\u001b[0m\u001b[0;34m\u001b[0m\u001b[0;34m\u001b[0m\u001b[0m\n\u001b[0m",
            "\u001b[0;31mNameError\u001b[0m: name 'bouble_sort' is not defined"
          ]
        }
      ]
    },
    {
      "cell_type": "markdown",
      "metadata": {
        "id": "ffPJ4BRwuatN"
      },
      "source": [
        "##  Quick sort"
      ]
    },
    {
      "cell_type": "code",
      "metadata": {
        "id": "dX-rNxipzi2q"
      },
      "source": [
        "def partition(target_list, pivot_index, left_pointer, right_pointer):\r\n",
        "\r\n",
        "    smaller_element_pointer = left_pointer-1\r\n",
        "    for i in range(left_pointer, right_pointer):\r\n",
        "        if target_list[i] < target_list[pivot_index]:\r\n",
        "            smaller_element_pointer += 1\r\n",
        "            target_list[smaller_element_pointer], target_list[i] = target_list[i], target_list[smaller_element_pointer]\r\n",
        "    smaller_element_pointer += 1\r\n",
        "    target_list[smaller_element_pointer], target_list[right_pointer] = target_list[right_pointer], target_list[smaller_element_pointer]\r\n",
        "    return smaller_element_pointer\r\n",
        "\r\n",
        "\r\n",
        "def quick_sort(target_list, left_pointer, right_pointer):\r\n",
        "    if right_pointer <= left_pointer:\r\n",
        "        return target_list\r\n",
        "    pivot_index = partition(\r\n",
        "        target_list=target_list,\r\n",
        "        pivot_index=right_pointer,\r\n",
        "        left_pointer=left_pointer, \r\n",
        "        right_pointer=right_pointer)\r\n",
        "    quick_sort(target_list=target_list, left_pointer=left_pointer, right_pointer=pivot_index-1)\r\n",
        "    quick_sort(target_list=target_list, left_pointer=pivot_index+1, right_pointer=right_pointer)\r\n",
        "    return target_list\r\n",
        "\r\n",
        "            \r\n",
        "    "
      ],
      "execution_count": null,
      "outputs": []
    },
    {
      "cell_type": "code",
      "metadata": {
        "id": "L1U2tcX2RBs9"
      },
      "source": [
        "test = [49, 97, 53, 5, 33, 65, 62, 51, 100, 55]\r\n",
        "res = partition(test, len(test)-1,0, len(test)-1)\r\n",
        "print(test)\r\n",
        "print(res)"
      ],
      "execution_count": null,
      "outputs": []
    },
    {
      "cell_type": "code",
      "metadata": {
        "id": "TTMTR38EelRp"
      },
      "source": [
        "quick_sort(random_short_list, 0, len(random_short_list)-1)"
      ],
      "execution_count": null,
      "outputs": []
    },
    {
      "cell_type": "markdown",
      "metadata": {
        "id": "aaD3SC_YlbVQ"
      },
      "source": [
        "## merge sort\r\n",
        "merge sort's time complexity:\r\n",
        "\r\n",
        "How many round we do the merge two list * the merge time complexity \r\n",
        "\r\n",
        "$=log(n)* O(n)$\r\n",
        "$=O(nlogn)$\r\n"
      ]
    },
    {
      "cell_type": "code",
      "metadata": {
        "id": "7o2hCoP8k45z"
      },
      "source": [
        "def merge(left_list, right_list):\r\n",
        "    result_list = []\r\n",
        "    if left_list is None:\r\n",
        "        left_list = []\r\n",
        "    if right_list is None:\r\n",
        "        right_list = []\r\n",
        "    while True:\r\n",
        "        if len(left_list) == 0 and len(right_list) == 0:\r\n",
        "            return result_list\r\n",
        "        elif len(left_list) == 0:\r\n",
        "            result_list.append(right_list.pop(0))\r\n",
        "        elif len(right_list) == 0:\r\n",
        "            result_list.append(left_list.pop(0))\r\n",
        "        elif left_list[0] >= right_list[0]:\r\n",
        "            result_list.append(right_list.pop(0))\r\n",
        "        else:\r\n",
        "            result_list.append(left_list.pop(0))\r\n",
        "\r\n",
        "    \r\n",
        "def merge_sort(target_list):\r\n",
        "    target_list_length = len(target_list)\r\n",
        "    if target_list_length == 1:\r\n",
        "        return target_list\r\n",
        "    result = merge(\r\n",
        "        left_list=merge_sort(target_list[target_list_length//2:]),\r\n",
        "        right_list=merge_sort(target_list[:target_list_length//2])\r\n",
        "    )\r\n",
        "    return result\r\n"
      ],
      "execution_count": null,
      "outputs": []
    },
    {
      "cell_type": "code",
      "metadata": {
        "id": "TAoWtli-pVae"
      },
      "source": [
        "merge_sort(random_short_list)"
      ],
      "execution_count": null,
      "outputs": []
    }
  ]
}