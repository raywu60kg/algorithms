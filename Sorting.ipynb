{
  "nbformat": 4,
  "nbformat_minor": 0,
  "metadata": {
    "colab": {
      "name": "Sorting.ipynb",
      "provenance": [],
      "collapsed_sections": [],
      "authorship_tag": "ABX9TyO5UuUzKQexgH4vze+MD6kA",
      "include_colab_link": true
    },
    "kernelspec": {
      "name": "python3",
      "display_name": "Python 3"
    }
  },
  "cells": [
    {
      "cell_type": "markdown",
      "metadata": {
        "id": "view-in-github",
        "colab_type": "text"
      },
      "source": [
        "<a href=\"https://colab.research.google.com/github/raywu60kg/algorithms/blob/master/Sorting.ipynb\" target=\"_parent\"><img src=\"https://colab.research.google.com/assets/colab-badge.svg\" alt=\"Open In Colab\"/></a>"
      ]
    },
    {
      "cell_type": "markdown",
      "metadata": {
        "id": "0IlhVzNX-GSH"
      },
      "source": [
        "# Common Sorting Algorithms\n",
        "- Insertion Sort \n",
        "- Selection Sort \n",
        "- Bubble Sort \n",
        "- Merge sort\n",
        "- Quicksort "
      ]
    },
    {
      "cell_type": "markdown",
      "metadata": {
        "id": "VufknUbqG1SK"
      },
      "source": [
        "## Overview"
      ]
    },
    {
      "cell_type": "markdown",
      "metadata": {
        "id": "8NcmJQlJ_6-r"
      },
      "source": [
        "Name|Best case|Average case|Worst case|Memory|Stable|Method\n",
        ":---|:---:|:---:|:---:|:---:|---:|---:\n",
        "Insertion sort| $n$|$n^2$|$n^2$|$1$|Yes|Inertion\n",
        "Selection sort| $n^2$|$n^2$|$n^2$|$1$|No|Selection\n",
        "Bubble sort|$n$|$n^2$|$n^2$|$1$|Yes|Exchanging\n",
        "Merge sort|$nlog(n)$|$nlog(n)$|$nlog(n)$|$n$|Yes|Merging\n",
        "Quicksort|$n$|$nlog(n)$|$n^2$|$log(n)$|No|Partitioning\n"
      ]
    },
    {
      "cell_type": "markdown",
      "metadata": {
        "id": "pzLICGBiN2FO"
      },
      "source": [
        "## Prepare the list"
      ]
    },
    {
      "cell_type": "code",
      "metadata": {
        "id": "9kO58cxNI7Sw",
        "colab": {
          "base_uri": "https://localhost:8080/"
        },
        "outputId": "c6de4fe6-7953-4d5c-bcb2-7c5ebfabd85c"
      },
      "source": [
        "import random\n",
        "import numpy as np\n",
        "random.seed(0)\n",
        "random_short_list = [random.randint(0, 100) for _ in range(10)]\n",
        "random_long_list = [random.randint(0, 1000) for _ in range(int(100))]\n",
        "sorted_random_short_list = list(np.sort(random_short_list))\n",
        "sorted_random_long_list = list(np.sort(random_long_list))\n",
        "print(random_short_list)\n",
        "print(sorted_random_short_list)\n",
        "print(random_long_list)\n",
        "print(sorted_random_long_list)"
      ],
      "execution_count": 1,
      "outputs": [
        {
          "output_type": "stream",
          "text": [
            "[49, 97, 53, 5, 33, 65, 62, 51, 100, 38]\n",
            "[5, 33, 38, 49, 51, 53, 62, 65, 97, 100]\n",
            "[991, 488, 366, 597, 913, 929, 223, 516, 142, 288, 143, 773, 97, 633, 818, 256, 931, 545, 722, 829, 616, 923, 150, 317, 101, 747, 75, 920, 870, 700, 338, 483, 573, 103, 362, 444, 323, 625, 655, 934, 209, 989, 565, 488, 453, 886, 533, 266, 63, 824, 940, 561, 937, 14, 95, 736, 860, 408, 727, 844, 803, 684, 640, 1, 626, 505, 847, 888, 341, 249, 747, 333, 720, 891, 64, 195, 939, 581, 227, 244, 822, 990, 145, 822, 556, 458, 93, 82, 327, 896, 520, 955, 501, 111, 308, 564, 298, 723, 127, 560]\n",
            "[1, 14, 63, 64, 75, 82, 93, 95, 97, 101, 103, 111, 127, 142, 143, 145, 150, 195, 209, 223, 227, 244, 249, 256, 266, 288, 298, 308, 317, 323, 327, 333, 338, 341, 362, 366, 408, 444, 453, 458, 483, 488, 488, 501, 505, 516, 520, 533, 545, 556, 560, 561, 564, 565, 573, 581, 597, 616, 625, 626, 633, 640, 655, 684, 700, 720, 722, 723, 727, 736, 747, 747, 773, 803, 818, 822, 822, 824, 829, 844, 847, 860, 870, 886, 888, 891, 896, 913, 920, 923, 929, 931, 934, 937, 939, 940, 955, 989, 990, 991]\n"
          ],
          "name": "stdout"
        }
      ]
    },
    {
      "cell_type": "markdown",
      "metadata": {
        "id": "M61ZOFp6KaOk"
      },
      "source": [
        "## Insertion sort\r\n",
        "Very fast for a almost sort list"
      ]
    },
    {
      "cell_type": "code",
      "metadata": {
        "id": "TJmkE-BCKP2Y"
      },
      "source": [
        "def insertion_sort(target_list):\n",
        "    list_length = len(target_list)\n",
        "    for i in range(1, list_length):\n",
        "        for j in range(i):\n",
        "            if target_list[i] < target_list[j]:\n",
        "                target_list[i], target_list[j] = target_list[j], target_list[i]\n",
        "    return target_list"
      ],
      "execution_count": null,
      "outputs": []
    },
    {
      "cell_type": "code",
      "metadata": {
        "id": "o-2VM36ZnjVA"
      },
      "source": [
        "def insertion_sort(target_list):\r\n",
        "    list_length = len(target_list)\r\n",
        "    for i in range(1, list_length):\r\n",
        "        for j in reversed(range(1,i+1)):\r\n",
        "            if target_list[j] < target_list[j-1]:\r\n",
        "                target_list[j], target_list[j-1] = target_list[j-1], target_list[j]\r\n",
        "            else:\r\n",
        "                break\r\n",
        "    return target_list"
      ],
      "execution_count": 5,
      "outputs": []
    },
    {
      "cell_type": "code",
      "metadata": {
        "id": "uyKZ-jz6Nf3k"
      },
      "source": [
        "assert insertion_sort(random_short_list) == sorted_random_short_list\r\n",
        "assert insertion_sort(random_long_list) == sorted_random_long_list"
      ],
      "execution_count": 7,
      "outputs": []
    },
    {
      "cell_type": "code",
      "metadata": {
        "id": "oQh6tZd3K40J"
      },
      "source": [
        "assert insertion_sort(random_short_list) == sorted_random_short_list\n",
        "# assert insertion_sort(random_long_list) == sorted_random_long_list"
      ],
      "execution_count": null,
      "outputs": []
    },
    {
      "cell_type": "markdown",
      "metadata": {
        "id": "1XMPdFyXQhdA"
      },
      "source": [
        "## Selection sort"
      ]
    },
    {
      "cell_type": "code",
      "metadata": {
        "id": "PK6EpvUGQupH"
      },
      "source": [
        "def selection_sort(target_list):\r\n",
        "    list_length = len(target_list)\r\n",
        "    for i in range(list_length):\r\n",
        "        min_element_index = i\r\n",
        "        for j in range(i, list_length):\r\n",
        "            if target_list[min_element_index] > target_list[j]:\r\n",
        "                min_element_index = j\r\n",
        "        target_list[i], target_list[min_element_index] = target_list[min_element_index], target_list[i]\r\n",
        "    return target_list\r\n",
        "            "
      ],
      "execution_count": 15,
      "outputs": []
    },
    {
      "cell_type": "code",
      "metadata": {
        "id": "DNhU9VP9mswG",
        "outputId": "47821e75-39b1-4299-f6ff-69439207493e",
        "colab": {
          "base_uri": "https://localhost:8080/"
        }
      },
      "source": [
        "selection_sort([99, 44, 6, 2, 1, 5, 63, 87, 283, 4, 0])"
      ],
      "execution_count": 17,
      "outputs": [
        {
          "output_type": "execute_result",
          "data": {
            "text/plain": [
              "[0, 1, 2, 4, 5, 6, 44, 63, 87, 99, 283]"
            ]
          },
          "metadata": {
            "tags": []
          },
          "execution_count": 17
        }
      ]
    },
    {
      "cell_type": "markdown",
      "metadata": {
        "id": "YTHZumJT_NwB"
      },
      "source": [
        "## Bouble Sort Algorithm"
      ]
    },
    {
      "cell_type": "code",
      "metadata": {
        "id": "Q0Il8lLMG7iG"
      },
      "source": [
        "def bubble_sort(target_list):\n",
        "    list_length = len(target_list)\n",
        "    for i in range(list_length):\n",
        "        for j in range(list_length - i - 1):\n",
        "            print(i, j, target_list)\n",
        "            if target_list[j+1] < target_list[j]:\n",
        "                target_list[j], target_list[j+1] = target_list[j+1], target_list[j]\n",
        "    return target_list"
      ],
      "execution_count": 10,
      "outputs": []
    },
    {
      "cell_type": "code",
      "metadata": {
        "colab": {
          "base_uri": "https://localhost:8080/"
        },
        "id": "KhGtVAbyi7g7",
        "outputId": "2c69650d-d5c5-4529-e7d7-0f9283f7ad9a"
      },
      "source": [
        "bubble_sort(random_short_list)"
      ],
      "execution_count": 11,
      "outputs": [
        {
          "output_type": "stream",
          "text": [
            "0 0 [0, 4, 6, 6, 6, 4, 7, 5, 7, 8]\n",
            "0 1 [0, 4, 6, 6, 6, 4, 7, 5, 7, 8]\n",
            "0 2 [0, 4, 6, 6, 6, 4, 7, 5, 7, 8]\n",
            "0 3 [0, 4, 6, 6, 6, 4, 7, 5, 7, 8]\n",
            "0 4 [0, 4, 6, 6, 6, 4, 7, 5, 7, 8]\n",
            "0 5 [0, 4, 6, 6, 4, 6, 7, 5, 7, 8]\n",
            "0 6 [0, 4, 6, 6, 4, 6, 7, 5, 7, 8]\n",
            "0 7 [0, 4, 6, 6, 4, 6, 5, 7, 7, 8]\n",
            "0 8 [0, 4, 6, 6, 4, 6, 5, 7, 7, 8]\n",
            "1 0 [0, 4, 6, 6, 4, 6, 5, 7, 7, 8]\n",
            "1 1 [0, 4, 6, 6, 4, 6, 5, 7, 7, 8]\n",
            "1 2 [0, 4, 6, 6, 4, 6, 5, 7, 7, 8]\n",
            "1 3 [0, 4, 6, 6, 4, 6, 5, 7, 7, 8]\n",
            "1 4 [0, 4, 6, 4, 6, 6, 5, 7, 7, 8]\n",
            "1 5 [0, 4, 6, 4, 6, 6, 5, 7, 7, 8]\n",
            "1 6 [0, 4, 6, 4, 6, 5, 6, 7, 7, 8]\n",
            "1 7 [0, 4, 6, 4, 6, 5, 6, 7, 7, 8]\n",
            "2 0 [0, 4, 6, 4, 6, 5, 6, 7, 7, 8]\n",
            "2 1 [0, 4, 6, 4, 6, 5, 6, 7, 7, 8]\n",
            "2 2 [0, 4, 6, 4, 6, 5, 6, 7, 7, 8]\n",
            "2 3 [0, 4, 4, 6, 6, 5, 6, 7, 7, 8]\n",
            "2 4 [0, 4, 4, 6, 6, 5, 6, 7, 7, 8]\n",
            "2 5 [0, 4, 4, 6, 5, 6, 6, 7, 7, 8]\n",
            "2 6 [0, 4, 4, 6, 5, 6, 6, 7, 7, 8]\n",
            "3 0 [0, 4, 4, 6, 5, 6, 6, 7, 7, 8]\n",
            "3 1 [0, 4, 4, 6, 5, 6, 6, 7, 7, 8]\n",
            "3 2 [0, 4, 4, 6, 5, 6, 6, 7, 7, 8]\n",
            "3 3 [0, 4, 4, 6, 5, 6, 6, 7, 7, 8]\n",
            "3 4 [0, 4, 4, 5, 6, 6, 6, 7, 7, 8]\n",
            "3 5 [0, 4, 4, 5, 6, 6, 6, 7, 7, 8]\n",
            "4 0 [0, 4, 4, 5, 6, 6, 6, 7, 7, 8]\n",
            "4 1 [0, 4, 4, 5, 6, 6, 6, 7, 7, 8]\n",
            "4 2 [0, 4, 4, 5, 6, 6, 6, 7, 7, 8]\n",
            "4 3 [0, 4, 4, 5, 6, 6, 6, 7, 7, 8]\n",
            "4 4 [0, 4, 4, 5, 6, 6, 6, 7, 7, 8]\n",
            "5 0 [0, 4, 4, 5, 6, 6, 6, 7, 7, 8]\n",
            "5 1 [0, 4, 4, 5, 6, 6, 6, 7, 7, 8]\n",
            "5 2 [0, 4, 4, 5, 6, 6, 6, 7, 7, 8]\n",
            "5 3 [0, 4, 4, 5, 6, 6, 6, 7, 7, 8]\n",
            "6 0 [0, 4, 4, 5, 6, 6, 6, 7, 7, 8]\n",
            "6 1 [0, 4, 4, 5, 6, 6, 6, 7, 7, 8]\n",
            "6 2 [0, 4, 4, 5, 6, 6, 6, 7, 7, 8]\n",
            "7 0 [0, 4, 4, 5, 6, 6, 6, 7, 7, 8]\n",
            "7 1 [0, 4, 4, 5, 6, 6, 6, 7, 7, 8]\n",
            "8 0 [0, 4, 4, 5, 6, 6, 6, 7, 7, 8]\n"
          ],
          "name": "stdout"
        },
        {
          "output_type": "execute_result",
          "data": {
            "text/plain": [
              "[0, 4, 4, 5, 6, 6, 6, 7, 7, 8]"
            ]
          },
          "metadata": {
            "tags": []
          },
          "execution_count": 11
        }
      ]
    },
    {
      "cell_type": "code",
      "metadata": {
        "id": "mV8JwCgoIDZz"
      },
      "source": [
        "assert bouble_sort(random_short_list) == sorted_random_short_list"
      ],
      "execution_count": null,
      "outputs": []
    },
    {
      "cell_type": "markdown",
      "metadata": {
        "id": "ffPJ4BRwuatN"
      },
      "source": [
        "##  Quick sort"
      ]
    },
    {
      "cell_type": "code",
      "metadata": {
        "id": "ELuxWc38ZV-H"
      },
      "source": [
        "def find_pivot(target_list, key, list_len, left_pivot_index, right_pivot_index):\n",
        "  # find left pivot\n",
        "  while True:\n",
        "    print('left', left_pivot_index, right_pivot_index)\n",
        "    if left_pivot_index >= right_pivot_index or target_list[left_pivot_index] >= key :\n",
        "      break\n",
        "    left_pivot_index += 1\n",
        "  \n",
        "  # find right pivot\n",
        "  while True:\n",
        "    print('right', left_pivot_index, right_pivot_index)\n",
        "    if left_pivot_index >= right_pivot_index or target_list[right_pivot_index] <= key :\n",
        "      break\n",
        "    right_pivot_index -= 1\n",
        "  return left_pivot_index, right_pivot_index"
      ],
      "execution_count": null,
      "outputs": []
    },
    {
      "cell_type": "code",
      "metadata": {
        "id": "Tw6xVrqkhZd8"
      },
      "source": [
        "def quick_sort(target_list):\n",
        "  list_len = len(target_list)\n",
        "  if  list_len <= 1:\n",
        "    return target_list\n",
        "  else:\n",
        "    key_element = target_list[0]\n",
        "    left_pivot_index = 1\n",
        "    right_pivot_index =list_len - 1\n",
        "    left_pivot_index, right_pivot_index = find_pivot(\n",
        "        target_list=target_list, \n",
        "        key=key_element,\n",
        "        list_len=list_len, \n",
        "        left_pivot_index=left_pivot_index, \n",
        "        right_pivot_index=right_pivot_index)\n",
        "    \n",
        "    while right_pivot_index > left_pivot_index:\n",
        "      print(target_list)\n",
        "      if target_list[left_pivot_index] < target_list[right_pivot_index]:\n",
        "        swap = target_list[left_pivot_index]\n",
        "        target_list[left_pivot_index] = target_list[right_pivot_index]\n",
        "        target_list[right_pivot_index] = swap\n",
        "      else:\n",
        "        swap = target_list[0]\n",
        "        target_list[0] = target_list[right_pivot_index]\n",
        "        target_list[right_pivot_index] = swap\n",
        "      key_element = target_list[0]\n",
        "      left_pivot_index, right_pivot_index = find_pivot(\n",
        "        target_list=target_list, \n",
        "        key=key_element, \n",
        "        list_len=list_len, \n",
        "        left_pivot_index=left_pivot_index, \n",
        "        right_pivot_index=right_pivot_index)\n",
        "    return target_list"
      ],
      "execution_count": null,
      "outputs": []
    },
    {
      "cell_type": "code",
      "metadata": {
        "id": "TTMTR38EelRp",
        "colab": {
          "base_uri": "https://localhost:8080/",
          "height": 125
        },
        "outputId": "24f4fefb-49d8-489b-eac4-795d54908a03"
      },
      "source": [
        "quick_sort(list(range(1,5)))"
      ],
      "execution_count": null,
      "outputs": [
        {
          "output_type": "stream",
          "text": [
            "left 1 3\n",
            "right 1 3\n",
            "right 1 2\n",
            "right 1 1\n",
            "right 1 0\n"
          ],
          "name": "stdout"
        },
        {
          "output_type": "execute_result",
          "data": {
            "text/plain": [
              "[1, 2, 3, 4]"
            ]
          },
          "metadata": {
            "tags": []
          },
          "execution_count": 40
        }
      ]
    },
    {
      "cell_type": "code",
      "metadata": {
        "id": "P2vxV-sLqUkI",
        "colab": {
          "base_uri": "https://localhost:8080/",
          "height": 35
        },
        "outputId": "8664bdb4-0c34-4ce5-b1f6-b75c20e0232c"
      },
      "source": [
        "list(range(4,0, -1))"
      ],
      "execution_count": null,
      "outputs": [
        {
          "output_type": "execute_result",
          "data": {
            "text/plain": [
              "[4, 3, 2, 1]"
            ]
          },
          "metadata": {
            "tags": []
          },
          "execution_count": 38
        }
      ]
    },
    {
      "cell_type": "code",
      "metadata": {
        "id": "WVQJb1J0eoht",
        "colab": {
          "base_uri": "https://localhost:8080/",
          "height": 125
        },
        "outputId": "b9849513-bc14-4eee-b389-3564614466ee"
      },
      "source": [
        "quick_sort(list(range(4,0, -1)))"
      ],
      "execution_count": null,
      "outputs": [
        {
          "output_type": "stream",
          "text": [
            "left 1 3\n",
            "left 2 3\n",
            "left 3 3\n",
            "left 4 3\n",
            "right 4 3\n"
          ],
          "name": "stdout"
        },
        {
          "output_type": "execute_result",
          "data": {
            "text/plain": [
              "[4, 3, 2, 1]"
            ]
          },
          "metadata": {
            "tags": []
          },
          "execution_count": 41
        }
      ]
    },
    {
      "cell_type": "markdown",
      "metadata": {
        "id": "aaD3SC_YlbVQ"
      },
      "source": [
        "## merge sort\r\n",
        "merge sort's time complexity:\r\n",
        "\r\n",
        "How many round we do the merge two list * the merge time complexity \r\n",
        "\r\n",
        "$=log(n)* O(n)$\r\n",
        "$=O(nlogn)$\r\n"
      ]
    },
    {
      "cell_type": "code",
      "metadata": {
        "id": "t1SaRUkEla02"
      },
      "source": [
        "# Python program for implementation of MergeSort \r\n",
        "  \r\n",
        "# Merges two subarrays of arr[]. \r\n",
        "# First subarray is arr[l..m] \r\n",
        "# Second subarray is arr[m+1..r] \r\n",
        "def merge(arr, l, m, r): \r\n",
        "    n1 = m - l + 1\r\n",
        "    n2 = r- m \r\n",
        "  \r\n",
        "    # create temp arrays \r\n",
        "    L = [0] * (n1) \r\n",
        "    R = [0] * (n2) \r\n",
        "  \r\n",
        "    # Copy data to temp arrays L[] and R[] \r\n",
        "    for i in range(0 , n1): \r\n",
        "        L[i] = arr[l + i] \r\n",
        "  \r\n",
        "    for j in range(0 , n2): \r\n",
        "        R[j] = arr[m + 1 + j] \r\n",
        "  \r\n",
        "    # Merge the temp arrays back into arr[l..r] \r\n",
        "    i = 0     # Initial index of first subarray \r\n",
        "    j = 0     # Initial index of second subarray \r\n",
        "    k = l     # Initial index of merged subarray \r\n",
        "  \r\n",
        "    while i < n1 and j < n2 : \r\n",
        "        if L[i] <= R[j]: \r\n",
        "            arr[k] = L[i] \r\n",
        "            i += 1\r\n",
        "        else: \r\n",
        "            arr[k] = R[j] \r\n",
        "            j += 1\r\n",
        "        k += 1\r\n",
        "  \r\n",
        "    # Copy the remaining elements of L[], if there \r\n",
        "    # are any \r\n",
        "    while i < n1: \r\n",
        "        arr[k] = L[i] \r\n",
        "        i += 1\r\n",
        "        k += 1\r\n",
        "  \r\n",
        "    # Copy the remaining elements of R[], if there \r\n",
        "    # are any \r\n",
        "    while j < n2: \r\n",
        "        arr[k] = R[j] \r\n",
        "        j += 1\r\n",
        "        k += 1\r\n",
        "  \r\n",
        "# l is for left index and r is right index of the \r\n",
        "# sub-array of arr to be sorted \r\n",
        "def mergeSort(arr,l,r): \r\n",
        "    if l < r: \r\n",
        "  \r\n",
        "        # Same as (l+r)//2, but avoids overflow for \r\n",
        "        # large l and h \r\n",
        "        m = (l+(r-1))//2\r\n",
        "  \r\n",
        "        # Sort first and second halves \r\n",
        "        mergeSort(arr, l, m) \r\n",
        "        mergeSort(arr, m+1, r) \r\n",
        "        merge(arr, l, m, r) \r\n",
        "  \r\n",
        "  \r\n",
        "# Driver code to test above \r\n",
        "arr = [12, 11, 13, 5, 6, 7] \r\n",
        "n = len(arr) \r\n",
        "print (\"Given array is\") \r\n",
        "for i in range(n): \r\n",
        "    print (\"%d\" %arr[i]), \r\n",
        "  \r\n",
        "mergeSort(arr,0,n-1) \r\n",
        "print (\"\\n\\nSorted array is\") \r\n",
        "for i in range(n): \r\n",
        "    print (\"%d\" %arr[i]), \r\n",
        "  \r\n",
        "# This code is contributed by Mohit Kumra "
      ],
      "execution_count": null,
      "outputs": []
    }
  ]
}