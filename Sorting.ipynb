{
  "nbformat": 4,
  "nbformat_minor": 0,
  "metadata": {
    "colab": {
      "name": "Sorting.ipynb",
      "provenance": [],
      "collapsed_sections": [],
      "authorship_tag": "ABX9TyMkQuhKUZCMIfZksMelNlss",
      "include_colab_link": true
    },
    "kernelspec": {
      "name": "python3",
      "display_name": "Python 3"
    }
  },
  "cells": [
    {
      "cell_type": "markdown",
      "metadata": {
        "id": "view-in-github",
        "colab_type": "text"
      },
      "source": [
        "<a href=\"https://colab.research.google.com/github/raywu60kg/algorithms/blob/master/Sorting.ipynb\" target=\"_parent\"><img src=\"https://colab.research.google.com/assets/colab-badge.svg\" alt=\"Open In Colab\"/></a>"
      ]
    },
    {
      "cell_type": "markdown",
      "metadata": {
        "id": "0IlhVzNX-GSH"
      },
      "source": [
        "# Common Sorting Algorithms\n",
        "- Insertion Sort \n",
        "- Selection Sort \n",
        "- Bubble Sort \n",
        "- Merge sort\n",
        "- Quicksort "
      ]
    },
    {
      "cell_type": "markdown",
      "metadata": {
        "id": "VufknUbqG1SK"
      },
      "source": [
        "## Overview"
      ]
    },
    {
      "cell_type": "markdown",
      "metadata": {
        "id": "8NcmJQlJ_6-r"
      },
      "source": [
        "Name|Best case|Average case|Worst case|Memory|Stable|Method\n",
        ":---|:---:|:---:|:---:|:---:|---:|---:\n",
        "Insertion sort| $n$|$n^2$|$n^2$|$1$|Yes|Inertion\n",
        "Selection sort| $n^2$|$n^2$|$n^2$|$1$|No|Selection\n",
        "Bubble sort|$n$|$n^2$|$n^2$|$1$|Yes|Exchanging\n",
        "Merge sort|$nlog(n)$|$nlog(n)$|$nlog(n)$|$n$|Yes|Merging\n",
        "Quicksort|$n$|$nlog(n)$|$n^2$|$log(n)$|No|Partitioning\n"
      ]
    },
    {
      "cell_type": "markdown",
      "metadata": {
        "id": "pzLICGBiN2FO"
      },
      "source": [
        "## Prepare the list"
      ]
    },
    {
      "cell_type": "code",
      "metadata": {
        "id": "9kO58cxNI7Sw",
        "colab": {
          "base_uri": "https://localhost:8080/"
        },
        "outputId": "617373f5-03f0-473a-dc2b-ee1cdd3653ad"
      },
      "source": [
        "import random\n",
        "import numpy as np\n",
        "random.seed(0)\n",
        "random_short_list = [random.randint(0, 100) for _ in range(10)]\n",
        "random_long_list = [random.randint(0, 1000) for _ in range(int(100))]\n",
        "sorted_random_short_list = list(np.sort(random_short_list))\n",
        "sorted_random_long_list = list(np.sort(random_long_list))\n",
        "print(random_short_list)\n",
        "print(sorted_random_short_list)\n",
        "print(random_long_list)\n",
        "print(sorted_random_long_list)"
      ],
      "execution_count": 1,
      "outputs": [
        {
          "output_type": "stream",
          "text": [
            "[49, 97, 53, 5, 33, 65, 62, 51, 100, 38]\n",
            "[5, 33, 38, 49, 51, 53, 62, 65, 97, 100]\n",
            "[991, 488, 366, 597, 913, 929, 223, 516, 142, 288, 143, 773, 97, 633, 818, 256, 931, 545, 722, 829, 616, 923, 150, 317, 101, 747, 75, 920, 870, 700, 338, 483, 573, 103, 362, 444, 323, 625, 655, 934, 209, 989, 565, 488, 453, 886, 533, 266, 63, 824, 940, 561, 937, 14, 95, 736, 860, 408, 727, 844, 803, 684, 640, 1, 626, 505, 847, 888, 341, 249, 747, 333, 720, 891, 64, 195, 939, 581, 227, 244, 822, 990, 145, 822, 556, 458, 93, 82, 327, 896, 520, 955, 501, 111, 308, 564, 298, 723, 127, 560]\n",
            "[1, 14, 63, 64, 75, 82, 93, 95, 97, 101, 103, 111, 127, 142, 143, 145, 150, 195, 209, 223, 227, 244, 249, 256, 266, 288, 298, 308, 317, 323, 327, 333, 338, 341, 362, 366, 408, 444, 453, 458, 483, 488, 488, 501, 505, 516, 520, 533, 545, 556, 560, 561, 564, 565, 573, 581, 597, 616, 625, 626, 633, 640, 655, 684, 700, 720, 722, 723, 727, 736, 747, 747, 773, 803, 818, 822, 822, 824, 829, 844, 847, 860, 870, 886, 888, 891, 896, 913, 920, 923, 929, 931, 934, 937, 939, 940, 955, 989, 990, 991]\n"
          ],
          "name": "stdout"
        }
      ]
    },
    {
      "cell_type": "markdown",
      "metadata": {
        "id": "M61ZOFp6KaOk"
      },
      "source": [
        "## Insertion sort\r\n",
        "Very fast for a almost sort list"
      ]
    },
    {
      "cell_type": "code",
      "metadata": {
        "id": "o-2VM36ZnjVA"
      },
      "source": [
        "def insertion_sort(target_list):\r\n",
        "    list_length = len(target_list)\r\n",
        "    for i in range(1, list_length):\r\n",
        "        for j in reversed(range(1,i+1)):\r\n",
        "            if target_list[j] < target_list[j-1]:\r\n",
        "                target_list[j], target_list[j-1] = target_list[j-1], target_list[j]\r\n",
        "            else:\r\n",
        "                break\r\n",
        "    return target_list"
      ],
      "execution_count": null,
      "outputs": []
    },
    {
      "cell_type": "code",
      "metadata": {
        "id": "uyKZ-jz6Nf3k"
      },
      "source": [
        "assert insertion_sort(random_short_list) == sorted_random_short_list\r\n",
        "assert insertion_sort(random_long_list) == sorted_random_long_list"
      ],
      "execution_count": null,
      "outputs": []
    },
    {
      "cell_type": "code",
      "metadata": {
        "id": "oQh6tZd3K40J"
      },
      "source": [
        "assert insertion_sort(random_short_list) == sorted_random_short_list\n",
        "# assert insertion_sort(random_long_list) == sorted_random_long_list"
      ],
      "execution_count": null,
      "outputs": []
    },
    {
      "cell_type": "markdown",
      "metadata": {
        "id": "1XMPdFyXQhdA"
      },
      "source": [
        "## Selection sort"
      ]
    },
    {
      "cell_type": "code",
      "metadata": {
        "id": "PK6EpvUGQupH"
      },
      "source": [
        "def selection_sort(target_list):\r\n",
        "    list_length = len(target_list)\r\n",
        "    for i in range(list_length):\r\n",
        "        min_element_index = i\r\n",
        "        for j in range(i, list_length):\r\n",
        "            if target_list[min_element_index] > target_list[j]:\r\n",
        "                min_element_index = j\r\n",
        "        target_list[i], target_list[min_element_index] = target_list[min_element_index], target_list[i]\r\n",
        "    return target_list\r\n",
        "            "
      ],
      "execution_count": null,
      "outputs": []
    },
    {
      "cell_type": "code",
      "metadata": {
        "id": "DNhU9VP9mswG",
        "colab": {
          "base_uri": "https://localhost:8080/"
        },
        "outputId": "47821e75-39b1-4299-f6ff-69439207493e"
      },
      "source": [
        "selection_sort(random_short_list)"
      ],
      "execution_count": null,
      "outputs": [
        {
          "output_type": "execute_result",
          "data": {
            "text/plain": [
              "[0, 1, 2, 4, 5, 6, 44, 63, 87, 99, 283]"
            ]
          },
          "metadata": {
            "tags": []
          },
          "execution_count": 17
        }
      ]
    },
    {
      "cell_type": "markdown",
      "metadata": {
        "id": "YTHZumJT_NwB"
      },
      "source": [
        "## Bouble Sort Algorithm"
      ]
    },
    {
      "cell_type": "code",
      "metadata": {
        "id": "Q0Il8lLMG7iG"
      },
      "source": [
        "def bubble_sort(target_list):\n",
        "    list_length = len(target_list)\n",
        "    for i in range(list_length):\n",
        "        for j in range(list_length - i - 1):\n",
        "            if target_list[j+1] < target_list[j]:\n",
        "                target_list[j], target_list[j+1] = target_list[j+1], target_list[j]\n",
        "    return target_list"
      ],
      "execution_count": 4,
      "outputs": []
    },
    {
      "cell_type": "code",
      "metadata": {
        "colab": {
          "base_uri": "https://localhost:8080/"
        },
        "id": "KhGtVAbyi7g7",
        "outputId": "82d4abf8-89cc-47e0-b4fc-77445aae9070"
      },
      "source": [
        "bubble_sort(random_short_list)"
      ],
      "execution_count": 5,
      "outputs": [
        {
          "output_type": "execute_result",
          "data": {
            "text/plain": [
              "[5, 33, 38, 49, 51, 53, 62, 65, 97, 100]"
            ]
          },
          "metadata": {
            "tags": []
          },
          "execution_count": 5
        }
      ]
    },
    {
      "cell_type": "code",
      "metadata": {
        "id": "mV8JwCgoIDZz"
      },
      "source": [
        "assert bouble_sort(random_short_list) == sorted_random_short_list"
      ],
      "execution_count": null,
      "outputs": []
    },
    {
      "cell_type": "markdown",
      "metadata": {
        "id": "ffPJ4BRwuatN"
      },
      "source": [
        "##  Quick sort"
      ]
    },
    {
      "cell_type": "code",
      "metadata": {
        "id": "ELuxWc38ZV-H"
      },
      "source": [
        "def find_pivot(target_list, key, list_len, left_pivot_index, right_pivot_index):\n",
        "  # find left pivot\n",
        "  while True:\n",
        "    print('left', left_pivot_index, right_pivot_index)\n",
        "    if left_pivot_index >= right_pivot_index or target_list[left_pivot_index] >= key :\n",
        "      break\n",
        "    left_pivot_index += 1\n",
        "  \n",
        "  # find right pivot\n",
        "  while True:\n",
        "    print('right', left_pivot_index, right_pivot_index)\n",
        "    if left_pivot_index >= right_pivot_index or target_list[right_pivot_index] <= key :\n",
        "      break\n",
        "    right_pivot_index -= 1\n",
        "  return left_pivot_index, right_pivot_index"
      ],
      "execution_count": null,
      "outputs": []
    },
    {
      "cell_type": "code",
      "metadata": {
        "id": "Tw6xVrqkhZd8"
      },
      "source": [
        "def quick_sort(target_list):\n",
        "  list_len = len(target_list)\n",
        "  if  list_len <= 1:\n",
        "    return target_list\n",
        "  else:\n",
        "    key_element = target_list[0]\n",
        "    left_pivot_index = 1\n",
        "    right_pivot_index =list_len - 1\n",
        "    left_pivot_index, right_pivot_index = find_pivot(\n",
        "        target_list=target_list, \n",
        "        key=key_element,\n",
        "        list_len=list_len, \n",
        "        left_pivot_index=left_pivot_index, \n",
        "        right_pivot_index=right_pivot_index)\n",
        "    \n",
        "    while right_pivot_index > left_pivot_index:\n",
        "      print(target_list)\n",
        "      if target_list[left_pivot_index] < target_list[right_pivot_index]:\n",
        "        swap = target_list[left_pivot_index]\n",
        "        target_list[left_pivot_index] = target_list[right_pivot_index]\n",
        "        target_list[right_pivot_index] = swap\n",
        "      else:\n",
        "        swap = target_list[0]\n",
        "        target_list[0] = target_list[right_pivot_index]\n",
        "        target_list[right_pivot_index] = swap\n",
        "      key_element = target_list[0]\n",
        "      left_pivot_index, right_pivot_index = find_pivot(\n",
        "        target_list=target_list, \n",
        "        key=key_element, \n",
        "        list_len=list_len, \n",
        "        left_pivot_index=left_pivot_index, \n",
        "        right_pivot_index=right_pivot_index)\n",
        "    return target_list"
      ],
      "execution_count": 23,
      "outputs": []
    },
    {
      "cell_type": "code",
      "metadata": {
        "id": "dX-rNxipzi2q"
      },
      "source": [
        "def partition(target_list, pivot_index, left_pointer, right_pointer):\r\n",
        "\r\n",
        "    smaller_element_pointer = left_pointer-1\r\n",
        "    for i in range(left_pointer, right_pointer):\r\n",
        "        if target_list[i] < target_list[pivot_index]:\r\n",
        "            smaller_element_pointer += 1\r\n",
        "            target_list[smaller_element_pointer], target_list[i] = target_list[i], target_list[smaller_element_pointer]\r\n",
        "    smaller_element_pointer += 1\r\n",
        "    target_list[smaller_element_pointer], target_list[right_pointer] = target_list[right_pointer], target_list[smaller_element_pointer]\r\n",
        "    return smaller_element_pointer\r\n",
        "\r\n",
        "\r\n",
        "def quick_sort(target_list, left_pointer, right_pointer):\r\n",
        "    if right_pointer <= left_pointer:\r\n",
        "        return target_list\r\n",
        "    pivot_index = partition(\r\n",
        "        target_list=target_list,\r\n",
        "        pivot_index=right_pointer,\r\n",
        "        left_pointer=left_pointer, \r\n",
        "        right_pointer=right_pointer)\r\n",
        "    quick_sort(target_list=target_list, left_pointer=left_pointer, right_pointer=pivot_index-1)\r\n",
        "    quick_sort(target_list=target_list, left_pointer=pivot_index+1, right_pointer=right_pointer)\r\n",
        "    return target_list\r\n",
        "\r\n",
        "            \r\n",
        "    "
      ],
      "execution_count": 68,
      "outputs": []
    },
    {
      "cell_type": "code",
      "metadata": {
        "id": "L1U2tcX2RBs9",
        "outputId": "19eb86c8-44d7-4c84-d849-32b858bf69c0",
        "colab": {
          "base_uri": "https://localhost:8080/"
        }
      },
      "source": [
        "test = [49, 97, 53, 5, 33, 65, 62, 51, 100, 55]\r\n",
        "res = partition(test, len(test)-1,0, len(test)-1)\r\n",
        "print(test)\r\n",
        "print(res)"
      ],
      "execution_count": 71,
      "outputs": [
        {
          "output_type": "stream",
          "text": [
            "[49, 53, 5, 33, 51, 55, 62, 97, 100, 65]\n",
            "5\n"
          ],
          "name": "stdout"
        }
      ]
    },
    {
      "cell_type": "code",
      "metadata": {
        "id": "TTMTR38EelRp",
        "colab": {
          "base_uri": "https://localhost:8080/"
        },
        "outputId": "4dfaa6d2-3449-4ccc-ce9a-9cb9d8882f71"
      },
      "source": [
        "quick_sort(random_short_list, 0, len(random_short_list)-1)"
      ],
      "execution_count": 69,
      "outputs": [
        {
          "output_type": "execute_result",
          "data": {
            "text/plain": [
              "[5, 33, 38, 49, 51, 53, 62, 65, 97, 100]"
            ]
          },
          "metadata": {
            "tags": []
          },
          "execution_count": 69
        }
      ]
    },
    {
      "cell_type": "markdown",
      "metadata": {
        "id": "aaD3SC_YlbVQ"
      },
      "source": [
        "## merge sort\r\n",
        "merge sort's time complexity:\r\n",
        "\r\n",
        "How many round we do the merge two list * the merge time complexity \r\n",
        "\r\n",
        "$=log(n)* O(n)$\r\n",
        "$=O(nlogn)$\r\n"
      ]
    },
    {
      "cell_type": "code",
      "metadata": {
        "id": "7o2hCoP8k45z"
      },
      "source": [
        "def merge(left_list, right_list):\r\n",
        "    result_list = []\r\n",
        "    if left_list is None:\r\n",
        "        left_list = []\r\n",
        "    if right_list is None:\r\n",
        "        right_list = []\r\n",
        "    while True:\r\n",
        "        if len(left_list) == 0 and len(right_list) == 0:\r\n",
        "            return result_list\r\n",
        "        elif len(left_list) == 0:\r\n",
        "            result_list.append(right_list.pop(0))\r\n",
        "        elif len(right_list) == 0:\r\n",
        "            result_list.append(left_list.pop(0))\r\n",
        "        elif left_list[0] >= right_list[0]:\r\n",
        "            result_list.append(right_list.pop(0))\r\n",
        "        else:\r\n",
        "            result_list.append(left_list.pop(0))\r\n",
        "\r\n",
        "    \r\n",
        "def merge_sort(target_list):\r\n",
        "    target_list_length = len(target_list)\r\n",
        "    if target_list_length == 1:\r\n",
        "        return target_list\r\n",
        "    result = merge(\r\n",
        "        left_list=merge_sort(target_list[target_list_length//2:]),\r\n",
        "        right_list=merge_sort(target_list[:target_list_length//2])\r\n",
        "    )\r\n",
        "    return result\r\n"
      ],
      "execution_count": 21,
      "outputs": []
    },
    {
      "cell_type": "code",
      "metadata": {
        "id": "TAoWtli-pVae",
        "outputId": "141a9939-67f2-49ab-d133-9454049d0c22",
        "colab": {
          "base_uri": "https://localhost:8080/"
        }
      },
      "source": [
        "merge_sort(random_short_list)"
      ],
      "execution_count": 22,
      "outputs": [
        {
          "output_type": "execute_result",
          "data": {
            "text/plain": [
              "[5, 33, 38, 49, 51, 53, 62, 65, 97, 100]"
            ]
          },
          "metadata": {
            "tags": []
          },
          "execution_count": 22
        }
      ]
    }
  ]
}