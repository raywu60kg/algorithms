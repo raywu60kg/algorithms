{
  "nbformat": 4,
  "nbformat_minor": 0,
  "metadata": {
    "colab": {
      "name": "data_structure.ipynb",
      "provenance": [],
      "authorship_tag": "ABX9TyO4smLWu82c3E6i2ZbQldCc",
      "include_colab_link": true
    },
    "kernelspec": {
      "name": "python3",
      "display_name": "Python 3"
    },
    "language_info": {
      "name": "python"
    }
  },
  "cells": [
    {
      "cell_type": "markdown",
      "metadata": {
        "id": "view-in-github",
        "colab_type": "text"
      },
      "source": [
        "<a href=\"https://colab.research.google.com/github/raywu60kg/algorithms/blob/master/data_structure.ipynb\" target=\"_parent\"><img src=\"https://colab.research.google.com/assets/colab-badge.svg\" alt=\"Open In Colab\"/></a>"
      ]
    },
    {
      "cell_type": "code",
      "metadata": {
        "id": "degXcilK40gv"
      },
      "source": [
        ""
      ],
      "execution_count": null,
      "outputs": []
    },
    {
      "cell_type": "markdown",
      "metadata": {
        "id": "uK8RFF1k5EhF"
      },
      "source": [
        "# Data Structure\n",
        "- hash table\n",
        "- link list\n",
        "- stack \n",
        "- queue\n",
        "- tree"
      ]
    }
  ]
}