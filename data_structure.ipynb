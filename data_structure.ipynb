{
  "nbformat": 4,
  "nbformat_minor": 0,
  "metadata": {
    "colab": {
      "name": "data_structure.ipynb",
      "provenance": [],
      "authorship_tag": "ABX9TyNjVd76DtI/Ri4N2PQhi+TO",
      "include_colab_link": true
    },
    "kernelspec": {
      "name": "python3",
      "display_name": "Python 3"
    },
    "language_info": {
      "name": "python"
    }
  },
  "cells": [
    {
      "cell_type": "markdown",
      "metadata": {
        "id": "view-in-github",
        "colab_type": "text"
      },
      "source": [
        "<a href=\"https://colab.research.google.com/github/raywu60kg/algorithms/blob/master/data_structure.ipynb\" target=\"_parent\"><img src=\"https://colab.research.google.com/assets/colab-badge.svg\" alt=\"Open In Colab\"/></a>"
      ]
    },
    {
      "cell_type": "markdown",
      "metadata": {
        "id": "uK8RFF1k5EhF"
      },
      "source": [
        "# Data Structure\n",
        "## Array\n",
        "|lookup|append or push|insert|delete|\n",
        "|---|---|---|---|\n",
        "|O(1)|O(1)|O(n)|O(n)|\n",
        "\n",
        "\n",
        "## link list\n",
        "|prepend|append|lookup|insert|delete|\n",
        "|---|---|---|---|---|\n",
        "|O(1)|O(1)|O(n)|O(n)|O(n)|\n",
        "\n",
        "## Double link list\n",
        "|prepend|append|lookup|insert|delete|\n",
        "|---|---|---|---|---|\n",
        "|O(1)|O(1)|O(n)|O(n)|O(n)|\n",
        "\n",
        "## Hash table\n",
        "|insert|lookup|delete|search|\n",
        "|---|---|---|---|\n",
        "|O(1)|O(1)|O(1)|O(1)|\n",
        "\n",
        "## Stack \n",
        "|lookup|pop|push|peek|\n",
        "|---|---|---|---|\n",
        "|O(n)|O(1)|O(1)|O(1)|\n",
        "\n",
        "\n",
        "## Queue\n",
        "|lookup|enqueue|dequeue|peek|\n",
        "|---|---|---|---|\n",
        "|O(n)|O(1)|O(1)|O(1)|\n",
        "\n",
        "## Tree\n",
        "|lookup|insert|delete|\n",
        "|---|---|---|\n",
        "|O(log(n))|O(log(n))|O(log(n))|\n",
        "\n",
        "- AVL Tree\n",
        "- Red Black Tree\n",
        "\n",
        "## Others\n",
        "- Binary heaps\n",
        "|lookup|insert|delete|\n",
        "|---|---|---|---|\n",
        "|O(n)|O(log(n))|O(log(n))|\n",
        "- Trie\n",
        "- Graph"
      ]
    },
    {
      "cell_type": "markdown",
      "metadata": {
        "id": "grtTEiYFilUw"
      },
      "source": [
        "# Array"
      ]
    },
    {
      "cell_type": "code",
      "metadata": {
        "id": "jCx9Ezb-io0W"
      },
      "source": [
        "class MyArray():\n",
        "    def __init__(self):\n",
        "        self.length = 0\n",
        "        self.data = {}\n",
        "    \n",
        "    def get(self, index):\n",
        "        return data[index]\n",
        "    \n",
        "    def push(self, item):\n",
        "        self.data[self.length] = item;\n",
        "        self.length += 1\n",
        "    \n",
        "    def pop(self):\n",
        "        pop_item = self.data[self.length-1]\n",
        "        del self.data[self.length-1]\n",
        "        self.length -= 1\n",
        "        return pop_item\n",
        "    def delete(self, index):\n",
        "        # item = self.data[index]\n",
        "        for i in range(index, self.length - 1):\n",
        "            self.data[i] = self.data[i+1]\n",
        "        del self.data[self.length - 1]\n",
        "        self.length -= 1\n"
      ],
      "execution_count": null,
      "outputs": []
    },
    {
      "cell_type": "code",
      "metadata": {
        "id": "T92NBVryl03a",
        "colab": {
          "base_uri": "https://localhost:8080/"
        },
        "outputId": "05a9808e-bcc7-4f65-81ee-af010b412fd3"
      },
      "source": [
        "my_array = MyArray()\n",
        "print(my_array.data)\n",
        "my_array.push(1)\n",
        "print(my_array.data)\n",
        "my_array.push(2)\n",
        "print(my_array.data)\n",
        "my_array.push(3)\n",
        "print(my_array.data)\n",
        "my_array.pop()\n",
        "print(my_array.data)\n",
        "my_array.delete(0)\n",
        "print(my_array.data)"
      ],
      "execution_count": null,
      "outputs": [
        {
          "output_type": "stream",
          "text": [
            "{}\n",
            "{0: 1}\n",
            "{0: 1, 1: 2}\n",
            "{0: 1, 1: 2, 2: 3}\n",
            "{0: 1, 1: 2}\n",
            "{0: 2}\n"
          ],
          "name": "stdout"
        }
      ]
    },
    {
      "cell_type": "markdown",
      "metadata": {
        "id": "btjd2DsVisS0"
      },
      "source": [
        "## Hash Table"
      ]
    },
    {
      "cell_type": "code",
      "metadata": {
        "id": "hm0ACPaEmmPp"
      },
      "source": [
        "class MyHashTable():\n",
        "    def __init__(self, size):\n",
        "        self.size = size\n",
        "        self.table = [None] * self.size\n",
        "\n",
        "    def my_hash(self, key):\n",
        "        return int.from_bytes(bytes(key, \"utf-8\"), byteorder=\"big\") % self.size\n",
        "\n",
        "    def set(self, key, value):\n",
        "        hash_value = self.my_hash(key)\n",
        "        if self.table[hash_value] is None:\n",
        "            self.table[hash_value] = [[key,value]]\n",
        "        else:\n",
        "            self.table[hash_value].append([key,value])\n",
        "\n",
        "    def get(self, key):\n",
        "        hash_value = self.my_hash(key)\n",
        "        if self.table[hash_value] is not None:\n",
        "            for bucket_key_value_pair in self.table[hash_value]:\n",
        "                if bucket_key_value_pair[0] == key:\n",
        "                    return bucket_key_value_pair[1]\n",
        "        return None\n",
        "\n"
      ],
      "execution_count": null,
      "outputs": []
    },
    {
      "cell_type": "code",
      "metadata": {
        "id": "Wbx26p2anHmc",
        "colab": {
          "base_uri": "https://localhost:8080/"
        },
        "outputId": "b45d9518-f308-4560-a615-de0939f62119"
      },
      "source": [
        "my_hash_table = MyHashTable(2);\n",
        "my_hash_table.set('grapes', 10000)\n",
        "print(my_hash_table.get('grapes'))\n",
        "my_hash_table.set('apples', 9)\n",
        "print(my_hash_table.get('apples'))\n",
        "my_hash_table.set('banana', 35)\n",
        "print(my_hash_table.get('banana'))"
      ],
      "execution_count": null,
      "outputs": [
        {
          "output_type": "stream",
          "text": [
            "10000\n",
            "9\n",
            "35\n"
          ],
          "name": "stdout"
        }
      ]
    },
    {
      "cell_type": "markdown",
      "metadata": {
        "id": "AOLO_gMA1Zw2"
      },
      "source": [
        "## Linked Lists\n",
        "- append\n",
        "- prepend\n",
        "- insert\n",
        "- traverse\n",
        "- remove"
      ]
    },
    {
      "cell_type": "code",
      "metadata": {
        "id": "DVPXqzrJ1fJU"
      },
      "source": [
        "class ListNode():\n",
        "    def __init__(self, value=None, next=None):\n",
        "        self.value = value\n",
        "        self.next = next "
      ],
      "execution_count": 15,
      "outputs": []
    },
    {
      "cell_type": "code",
      "metadata": {
        "id": "iQ19ms1s4BTT"
      },
      "source": [
        "class MyLinkedList():\n",
        "    def __init__(self):\n",
        "        pass\n",
        "    def append(self):\n",
        "        pass\n",
        "    def prepend(self):\n",
        "        pass\n",
        "    def insert(self):\n",
        "        pass\n",
        "    def remove(self):\n",
        "        pass\n",
        "    def traverse(self):\n",
        "        pass"
      ],
      "execution_count": 2,
      "outputs": []
    },
    {
      "cell_type": "code",
      "metadata": {
        "id": "oVHM9gNl2LGt"
      },
      "source": [
        "# create linked list\n",
        "example = [1,2,3]\n",
        "for i in example:\n",
        "    "
      ],
      "execution_count": null,
      "outputs": []
    },
    {
      "cell_type": "markdown",
      "metadata": {
        "id": "i8CQjD7S2roW"
      },
      "source": [
        "## Stack"
      ]
    },
    {
      "cell_type": "code",
      "metadata": {
        "id": "tZcsxBuS2unw"
      },
      "source": [
        "class MyStack():\n",
        "    def __init__(self):\n",
        "        self.length = 0\n",
        "        self.top = None\n",
        "\n",
        "    def peek(self):\n",
        "        if self.length == 0:\n",
        "            return None\n",
        "        else:\n",
        "            return self.top.value\n",
        "\n",
        "    def push(self,value):\n",
        "        new_node = ListNode(value=value)\n",
        "        if self.length == 0:\n",
        "            self.top = new_node\n",
        "        else:\n",
        "            holding_pointer = self.top\n",
        "            self.top = new_node\n",
        "            self.top.next = holding_pointer\n",
        "        self.length += 1\n",
        "\n",
        "    def pop(self):\n",
        "        if self.length == 0:\n",
        "            return None\n",
        "        holding_pointer = self.top\n",
        "        self.top = self.top.next\n",
        "        self.length -= 1\n",
        "        return holding_pointer.value\n"
      ],
      "execution_count": 13,
      "outputs": []
    },
    {
      "cell_type": "code",
      "metadata": {
        "id": "3DPj0Re05Yay",
        "outputId": "ee8b2b0c-6ee3-4bd4-f225-32a70b61be69",
        "colab": {
          "base_uri": "https://localhost:8080/"
        }
      },
      "source": [
        "my_stack = MyStack()\n",
        "print(my_stack.peek())\n",
        "my_stack.push('google')\n",
        "my_stack.push('udemy')\n",
        "my_stack.push('discord')\n",
        "print(my_stack.peek())\n",
        "print(my_stack.pop())\n",
        "print(my_stack.pop())\n",
        "print(my_stack.pop())\n",
        "print(my_stack.peek())"
      ],
      "execution_count": 14,
      "outputs": [
        {
          "output_type": "stream",
          "text": [
            "None\n",
            "discord\n",
            "discord\n",
            "udemy\n",
            "google\n",
            "None\n"
          ],
          "name": "stdout"
        }
      ]
    },
    {
      "cell_type": "markdown",
      "metadata": {
        "id": "v1wWtLraT_cT"
      },
      "source": [
        "## My queue"
      ]
    },
    {
      "cell_type": "code",
      "metadata": {
        "id": "LQCGj5_JUDhG"
      },
      "source": [
        "class MyQueue():\n",
        "    def __init__(self):\n",
        "        self.length = 0\n",
        "        self.first = None\n",
        "        self.last = None\n",
        "    def peek(self):\n",
        "        if self.length == 0:\n",
        "            return None\n",
        "        else:\n",
        "            return self.first.value\n",
        "    def enqueue(self, value):\n",
        "        new_node = ListNode(value=value)\n",
        "        if self.length == 0:\n",
        "            self.first = new_node\n",
        "            self.last = new_node\n",
        "        else:\n",
        "            holding_pointer = self.last\n",
        "            self.last = new_node\n",
        "            holding_pointer.next = self.last\n",
        "        self.length += 1\n",
        "\n",
        "    def dequeue(self):\n",
        "        if self.length == 0:\n",
        "            return None\n",
        "        else:\n",
        "            holding_pointer = self.first\n",
        "            self.first = self.first.next\n",
        "        self.length -= 1\n",
        "        return holding_pointer.value\n"
      ],
      "execution_count": 18,
      "outputs": []
    },
    {
      "cell_type": "code",
      "metadata": {
        "id": "MQ7vJ-ypYpVA",
        "outputId": "7ff7d3ac-80ea-4035-d300-839ca572f956",
        "colab": {
          "base_uri": "https://localhost:8080/"
        }
      },
      "source": [
        "my_queue = MyQueue()\n",
        "print(my_queue.peek())\n",
        "my_queue.enqueue('Joy')\n",
        "my_queue.enqueue('Matt')\n",
        "my_queue.enqueue('Pavel')\n",
        "print(my_queue.peek())\n",
        "print(my_queue.dequeue())\n",
        "print(my_queue.dequeue())\n",
        "print(my_queue.dequeue())\n",
        "print(my_queue.peek())"
      ],
      "execution_count": 19,
      "outputs": [
        {
          "output_type": "stream",
          "text": [
            "None\n",
            "Joy\n",
            "Joy\n",
            "Matt\n",
            "Pavel\n",
            "None\n"
          ],
          "name": "stdout"
        }
      ]
    },
    {
      "cell_type": "markdown",
      "metadata": {
        "id": "SHyhwjmQkCxv"
      },
      "source": [
        "# Reference\n",
        "https://www.udemy.com/course/master-the-coding-interview-data-structures-algorithms"
      ]
    }
  ]
}