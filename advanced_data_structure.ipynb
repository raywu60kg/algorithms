{
  "nbformat": 4,
  "nbformat_minor": 0,
  "metadata": {
    "colab": {
      "name": "advanced_data_structure.ipynb",
      "provenance": [],
      "authorship_tag": "ABX9TyP+aXcKE8RoNSaNRXnBsck7",
      "include_colab_link": true
    },
    "kernelspec": {
      "name": "python3",
      "display_name": "Python 3"
    },
    "language_info": {
      "name": "python"
    }
  },
  "cells": [
    {
      "cell_type": "markdown",
      "metadata": {
        "id": "view-in-github",
        "colab_type": "text"
      },
      "source": [
        "<a href=\"https://colab.research.google.com/github/raywu60kg/algorithms/blob/master/advanced_data_structure.ipynb\" target=\"_parent\"><img src=\"https://colab.research.google.com/assets/colab-badge.svg\" alt=\"Open In Colab\"/></a>"
      ]
    },
    {
      "cell_type": "markdown",
      "source": [
        "# Advanced data structure"
      ],
      "metadata": {
        "id": "6Nvk3n_VD6JA"
      }
    },
    {
      "cell_type": "markdown",
      "source": [
        "UnionFind\n",
        "\n",
        "Reference:\n",
        "https://leetcode.com/explore/learn/card/graph/618/disjoint-set/3843/\n",
        "\n"
      ],
      "metadata": {
        "id": "rxPuBzDSEEZ7"
      }
    },
    {
      "cell_type": "code",
      "source": [
        ""
      ],
      "metadata": {
        "id": "NK9sC5zHD2qq"
      },
      "execution_count": null,
      "outputs": []
    },
    {
      "cell_type": "code",
      "execution_count": null,
      "metadata": {
        "id": "f6gtmGbUDx2m"
      },
      "outputs": [],
      "source": [
        "# UnionFind class\n",
        "class UnionFind:\n",
        "    def __init__(self, size):\n",
        "        self.root = [i for i in range(size)]\n",
        "        # Use a rank array to record the height of each vertex, i.e., the \"rank\" of each vertex.\n",
        "        # The initial \"rank\" of each vertex is 1, because each of them is\n",
        "        # a standalone vertex with no connection to other vertices.\n",
        "        self.rank = [1] * size\n",
        "\n",
        "    # The find function here is the same as that in the disjoint set with path compression.\n",
        "    def find(self, x):\n",
        "        if x == self.root[x]:\n",
        "            return x\n",
        "        self.root[x] = self.find(self.root[x])\n",
        "        return self.root[x]\n",
        "\n",
        "    # The union function with union by rank\n",
        "    def union(self, x, y):\n",
        "        rootX = self.find(x)\n",
        "        rootY = self.find(y)\n",
        "        if rootX != rootY:\n",
        "            if self.rank[rootX] > self.rank[rootY]:\n",
        "                self.root[rootY] = rootX\n",
        "            elif self.rank[rootX] < self.rank[rootY]:\n",
        "                self.root[rootX] = rootY\n",
        "            else:\n",
        "                self.root[rootY] = rootX\n",
        "                self.rank[rootX] += 1\n",
        "\n",
        "    def connected(self, x, y):\n",
        "        return self.find(x) == self.find(y)\n",
        "\n",
        "\n",
        "# Test Case\n",
        "uf = UnionFind(10)\n",
        "# 1-2-5-6-7 3-8-9 4\n",
        "uf.union(1, 2)\n",
        "uf.union(2, 5)\n",
        "uf.union(5, 6)\n",
        "uf.union(6, 7)\n",
        "uf.union(3, 8)\n",
        "uf.union(8, 9)\n",
        "print(uf.connected(1, 5))  # true\n",
        "print(uf.connected(5, 7))  # true\n",
        "print(uf.connected(4, 9))  # false\n",
        "# 1-2-5-6-7 3-8-9-4\n",
        "uf.union(9, 4)\n",
        "print(uf.connected(4, 9))  # true"
      ]
    }
  ]
}